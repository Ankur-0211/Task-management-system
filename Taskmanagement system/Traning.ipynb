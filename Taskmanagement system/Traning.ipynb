{
 "cells": [
  {
   "cell_type": "code",
   "execution_count": 1,
   "id": "3bc10266",
   "metadata": {},
   "outputs": [],
   "source": [
    "import pandas as pd\n"
   ]
  },
  {
   "cell_type": "code",
   "execution_count": 2,
   "id": "ad8f3569",
   "metadata": {},
   "outputs": [],
   "source": [
    "df=pd.read_csv(\"cleaned_tasks.csv\")"
   ]
  },
  {
   "cell_type": "code",
   "execution_count": 3,
   "id": "8b826d03",
   "metadata": {},
   "outputs": [],
   "source": [
    "from sklearn.feature_extraction.text import TfidfVectorizer\n",
    "\n",
    "vectorizer = TfidfVectorizer(max_features=1000)\n",
    "X = vectorizer.fit_transform(df['Description'])\n",
    "\n",
    "# For task classification\n",
    "y_task = df['Task_Type_Code']\n",
    "\n",
    "# For priority prediction\n",
    "y_priority = df['Priority_code']\n"
   ]
  },
  {
   "cell_type": "code",
   "execution_count": 4,
   "id": "2100838e",
   "metadata": {},
   "outputs": [],
   "source": [
    "from sklearn.model_selection import train_test_split\n",
    "\n",
    "X_train_task, X_test_task, y_train_task, y_test_task = train_test_split(\n",
    "    X, y_task, test_size=0.2, random_state=42\n",
    ")\n",
    "\n",
    "X_train_priority, X_test_priority, y_train_priority, y_test_priority = train_test_split(\n",
    "    X, y_priority, test_size=0.2, random_state=42\n",
    ")\n"
   ]
  },
  {
   "cell_type": "code",
   "execution_count": 5,
   "id": "329e9a6f",
   "metadata": {},
   "outputs": [
    {
     "name": "stdout",
     "output_type": "stream",
     "text": [
      "SVM - Task Type Classification:\n",
      "Accuracy: 1.0\n",
      "              precision    recall  f1-score   support\n",
      "\n",
      "           0       1.00      1.00      1.00        11\n",
      "           1       1.00      1.00      1.00        14\n",
      "           2       1.00      1.00      1.00        13\n",
      "           3       1.00      1.00      1.00        10\n",
      "           4       1.00      1.00      1.00         9\n",
      "           5       1.00      1.00      1.00        10\n",
      "           6       1.00      1.00      1.00        15\n",
      "           7       1.00      1.00      1.00         9\n",
      "           8       1.00      1.00      1.00         9\n",
      "\n",
      "    accuracy                           1.00       100\n",
      "   macro avg       1.00      1.00      1.00       100\n",
      "weighted avg       1.00      1.00      1.00       100\n",
      "\n"
     ]
    }
   ],
   "source": [
    "from sklearn.svm import LinearSVC\n",
    "from sklearn.metrics import classification_report, accuracy_score\n",
    "\n",
    "svm_model = LinearSVC()\n",
    "svm_model.fit(X_train_task, y_train_task)\n",
    "\n",
    "y_pred_svm = svm_model.predict(X_test_task)\n",
    "\n",
    "print(\"SVM - Task Type Classification:\")\n",
    "print(\"Accuracy:\", accuracy_score(y_test_task, y_pred_svm))\n",
    "print(classification_report(y_test_task, y_pred_svm))\n"
   ]
  },
  {
   "cell_type": "code",
   "execution_count": 6,
   "id": "dae49e59",
   "metadata": {},
   "outputs": [
    {
     "name": "stdout",
     "output_type": "stream",
     "text": [
      "Random Forest - Priority Prediction:\n",
      "Accuracy: 0.57\n",
      "              precision    recall  f1-score   support\n",
      "\n",
      "           0       0.66      0.81      0.72        67\n",
      "           1       0.09      0.07      0.08        14\n",
      "           2       0.29      0.11      0.15        19\n",
      "\n",
      "    accuracy                           0.57       100\n",
      "   macro avg       0.35      0.33      0.32       100\n",
      "weighted avg       0.51      0.57      0.53       100\n",
      "\n"
     ]
    }
   ],
   "source": [
    "from sklearn.ensemble import RandomForestClassifier\n",
    "\n",
    "rf_model = RandomForestClassifier()\n",
    "rf_model.fit(X_train_priority, y_train_priority)\n",
    "\n",
    "y_pred_rf = rf_model.predict(X_test_priority)\n",
    "\n",
    "print(\"Random Forest - Priority Prediction:\")\n",
    "print(\"Accuracy:\", accuracy_score(y_test_priority, y_pred_rf))\n",
    "print(classification_report(y_test_priority, y_pred_rf))\n"
   ]
  },
  {
   "cell_type": "code",
   "execution_count": 8,
   "id": "7b6cd77e",
   "metadata": {},
   "outputs": [
    {
     "data": {
      "text/plain": [
       "['tfidf_vectorizer.pkl']"
      ]
     },
     "execution_count": 8,
     "metadata": {},
     "output_type": "execute_result"
    }
   ],
   "source": [
    "import joblib\n",
    "\n",
    "\n",
    "joblib.dump(svm_model, 'task_model.pkl')\n",
    "\n",
    "joblib.dump(rf_model, 'priority_model.pkl')\n",
    "\n",
    "joblib.dump(vectorizer, 'tfidf_vectorizer.pkl')\n"
   ]
  },
  {
   "cell_type": "code",
   "execution_count": null,
   "id": "f7780c0c",
   "metadata": {},
   "outputs": [],
   "source": []
  }
 ],
 "metadata": {
  "kernelspec": {
   "display_name": "base",
   "language": "python",
   "name": "python3"
  },
  "language_info": {
   "codemirror_mode": {
    "name": "ipython",
    "version": 3
   },
   "file_extension": ".py",
   "mimetype": "text/x-python",
   "name": "python",
   "nbconvert_exporter": "python",
   "pygments_lexer": "ipython3",
   "version": "3.12.7"
  }
 },
 "nbformat": 4,
 "nbformat_minor": 5
}
